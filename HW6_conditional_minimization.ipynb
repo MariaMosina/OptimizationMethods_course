{
 "cells": [
  {
   "cell_type": "markdown",
   "metadata": {},
   "source": [
    "# Условная минимизация"
   ]
  },
  {
   "cell_type": "markdown",
   "metadata": {},
   "source": [
    "## Многоугольник с вершинами (0, 0), (0, 4), (5, 8), (10, 4), (6, 0). Функция $f(x) = x_1^2 +x_2^2-4x_1 - 6x_2$"
   ]
  },
  {
   "cell_type": "code",
   "execution_count": 21,
   "metadata": {},
   "outputs": [
    {
     "data": {
      "text/plain": [
       "[<matplotlib.lines.Line2D at 0x130543ceac8>]"
      ]
     },
     "execution_count": 21,
     "metadata": {},
     "output_type": "execute_result"
    },
    {
     "data": {
      "image/png": "[encoded data removed]",
      "text/plain": [
       "<Figure size 432x288 with 1 Axes>"
      ]
     },
     "metadata": {
      "needs_background": "light"
     },
     "output_type": "display_data"
    }
   ],
   "source": [
    "from matplotlib.pyplot import plot\n",
    "%matplotlib inline\n",
    "plot([0, 6, 10,5,  0, 0], [0, 0, 4, 8, 4, 0])"
   ]
  },
  {
   "cell_type": "markdown",
   "metadata": {},
   "source": [
    "### Метод внешних штрафов"
   ]
  },
  {
   "cell_type": "code",
   "execution_count": 1,
   "metadata": {},
   "outputs": [],
   "source": [
    "import numpy as np"
   ]
  },
  {
   "cell_type": "code",
   "execution_count": 2,
   "metadata": {},
   "outputs": [],
   "source": [
    "def f(x):\n",
    "    return x[0]**2 + x[1]**2 - 4*x[0] - 6*x[1]\n",
    "def g1(x):\n",
    "    return -x[0]\n",
    "def g2(x):\n",
    "    return -x[1]\n",
    "def g3(x):\n",
    "    return x[1] - 0.8*x[0] - 4\n",
    "def g4(x):\n",
    "    return x[1] + 0.8*x[0] - 12\n",
    "def g5(x):\n",
    "    return x[0] - x[1] - 6"
   ]
  },
  {
   "cell_type": "code",
   "execution_count": 50,
   "metadata": {},
   "outputs": [],
   "source": [
    "a, b, eps = 1.5, 2, 0.05\n",
    "def passive_search(f, x, r, grad, a = a, b = b, eps = eps):\n",
    "    print(\"\\n Passive\")\n",
    "    n = round((b-a)/eps)+1\n",
    "    x_s = [a+i*eps for i in range(n)]\n",
    "    y_s = [f(x-i*grad, r) for i in x_s]\n",
    "    res = y_s.index(min(y_s))\n",
    "    print('res', res)\n",
    "    print('y in mim', y_s[res])\n",
    "    return x_s[res]\n"
   ]
  },
  {
   "cell_type": "code",
   "execution_count": 51,
   "metadata": {},
   "outputs": [],
   "source": [
    "# # from optimization_methods import passive_search\n",
    "# a, b, eps = 0.0001, 0.9999,  0.005\n",
    "# def grad_descent_series(x = np.array([0, 0]), grad= None, epsilon = 0.05):\n",
    "# #     grad = grad_f(x)\n",
    "#     n = 0\n",
    "#     check = 0\n",
    "#     while np.linalg.norm(grad) > epsilon or check < 3:\n",
    "#         alp = passive_search(f, x, grad, a, b, eps)\n",
    "#         x = x - alp*grad\n",
    "#         grad = grad_f(x)\n",
    "#         n+=1\n",
    "#         if (np.linalg.norm(grad) <= epsilon): check +=1\n",
    "#     print(\"Метод наискорейшего градиентного спуска выполнил {} шагов\".format(n))\n",
    "#     print(\"Точка с координатами х1 = {}, x2 = {}\".format(x[0], x[1]))\n",
    "#     return x"
   ]
  },
  {
   "cell_type": "code",
   "execution_count": 52,
   "metadata": {},
   "outputs": [],
   "source": [
    "def H(x):\n",
    "#     print(g1(x),g2(x),g3(x),g4(x),g5(x))\n",
    "    return max([0, g1(x)])**2 + max([0, g2(x)])**2 + max([0, g3(x)])**2 + max([0, g4(x)])**2 + max([0, g5(x)])**2   \n",
    "def phi(x, r):\n",
    "    return f(x)+r*H(x)\n",
    "def d_phi(x, r):\n",
    "    a = 2*x[0] + r*(2 * max([0, g1(x)])*(-1) + 2 * max([0, g3(x)])*(-0.8) + 2 * max([0, g4(x)])*(0.8) + 2 * max([0, g5(x)])) \n",
    "    b = 2*x[1] + r*(2 * max([0, g2(x)])*(-1) + 2 * max([0, g3(x)]) + 2 * max([0, g4(x)]) + 2 * max([0, g5(x)])*(-1))\n",
    "    return np.array([a, b])"
   ]
  },
  {
   "cell_type": "code",
   "execution_count": 53,
   "metadata": {},
   "outputs": [],
   "source": [
    "def penalty(f = f, x = np.array([-1, -2]), r = 1, eps = 1, epsilon = 0.1):\n",
    "    n = 0\n",
    "    check = 0\n",
    "#     print(H(x))\n",
    "    while H(x) > eps:\n",
    "        print(\"h\", H(x))\n",
    "        x = np.array([4, 3])\n",
    "        while np.linalg.norm(d_phi(x, r)) > epsilon/10:\n",
    "            print(\"\\nМНГС\")\n",
    "            alp = passive_search(phi, x,r, d_phi(x, r), -2, 2, epsilon/100)\n",
    "            print('phi', phi(x, r))\n",
    "            print('d_phi', d_phi(x, r))\n",
    "            print('alp ', alp)\n",
    "            x = x - alp*d_phi(x, r)\n",
    "            print('x=', x)\n",
    "            print('f=', f(x))\n",
    "            print('d_phi', d_phi(x, r))\n",
    "            print(\"h in x: \", H(x))\n",
    "            if not alp:\n",
    "                break\n",
    "        print(\"h end\", H(x))\n",
    "        r*=10\n",
    "    return x"
   ]
  },
  {
   "cell_type": "code",
   "execution_count": 54,
   "metadata": {},
   "outputs": [
    {
     "name": "stdout",
     "output_type": "stream",
     "text": [
      "Wall time: 0 ns\n",
      "h 5\n",
      "\n",
      "МНГС\n",
      "\n",
      " Passive\n",
      "res 2160\n",
      "y in mim -11.56\n",
      "phi -9\n",
      "d_phi [8. 6.]\n",
      "alp  0.16000000000000014\n",
      "x= [2.72 2.04]\n",
      "f= -11.56\n",
      "d_phi [5.44 4.08]\n",
      "h in x:  0\n",
      "\n",
      "МНГС\n",
      "\n",
      " Passive\n",
      "res 2000\n",
      "y in mim -11.56\n",
      "phi -11.56\n",
      "d_phi [5.44 4.08]\n",
      "alp  0.0\n",
      "x= [2.72 2.04]\n",
      "f= -11.56\n",
      "d_phi [5.44 4.08]\n",
      "h in x:  0\n",
      "h end 0\n"
     ]
    },
    {
     "data": {
      "text/plain": [
       "array([2.72, 2.04])"
      ]
     },
     "execution_count": 54,
     "metadata": {},
     "output_type": "execute_result"
    }
   ],
   "source": [
    "%time\n",
    "penalty()"
   ]
  },
  {
   "cell_type": "code",
   "execution_count": null,
   "metadata": {},
   "outputs": [],
   "source": []
  },
  {
   "cell_type": "code",
   "execution_count": null,
   "metadata": {},
   "outputs": [],
   "source": []
  }
 ],
 "metadata": {
  "kernelspec": {
   "display_name": "Python 3",
   "language": "python",
   "name": "python3"
  },
  "language_info": {
   "codemirror_mode": {
    "name": "ipython",
    "version": 3
   },
   "file_extension": ".py",
   "mimetype": "text/x-python",
   "name": "python",
   "nbconvert_exporter": "python",
   "pygments_lexer": "ipython3",
   "version": "3.7.1"
  }
 },
 "nbformat": 4,
 "nbformat_minor": 2
}
