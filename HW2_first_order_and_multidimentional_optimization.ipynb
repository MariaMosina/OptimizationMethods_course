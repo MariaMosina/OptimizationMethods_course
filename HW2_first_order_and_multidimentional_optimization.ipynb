{
 "cells": [
  {
   "cell_type": "markdown",
   "metadata": {},
   "source": [
    "# Методы многомерной минимизации"
   ]
  },
  {
   "cell_type": "markdown",
   "metadata": {},
   "source": [
    "## Функция $f(x) = x_1^2 +x_2^2+x_1+x_2$, точка $x^{(0)} = (0, 0)$"
   ]
  },
  {
   "cell_type": "code",
   "execution_count": 1,
   "metadata": {},
   "outputs": [],
   "source": [
    "import numpy as np"
   ]
  },
  {
   "cell_type": "code",
   "execution_count": 2,
   "metadata": {},
   "outputs": [],
   "source": [
    "def f(x):\n",
    "    return x[0]**2+x[1]**2+x[0]+x[1]"
   ]
  },
  {
   "cell_type": "markdown",
   "metadata": {},
   "source": [
    "## Метод покоординатного спуска"
   ]
  },
  {
   "cell_type": "code",
   "execution_count": 3,
   "metadata": {},
   "outputs": [],
   "source": [
    "a, b, eps = 0.0001, 0.9999,  0.0005\n",
    "def passive_search(x, v, p = 2, a = a, b = b, eps = eps):\n",
    "    n = round((b-a)/eps)+1\n",
    "    x_s = [a+i*eps for i in range(n)]\n",
    "    y_s = [f(x-i*v) for i in x_s]\n",
    "    res = y_s.index(min(y_s))\n",
    "    return x_s[res]"
   ]
  },
  {
   "cell_type": "code",
   "execution_count": 4,
   "metadata": {},
   "outputs": [],
   "source": [
    "def F_R(x = np.array([0, 0]), p = 2, alpha = 0.001, epsilon = 0.05):\n",
    "    x_prev = x + np.array([-1, -1])\n",
    "    n = 0\n",
    "    check = 0\n",
    "    while (np.linalg.norm(x-x_prev) > epsilon) or (check < 3):\n",
    "        for i in range(p):\n",
    "            x_prev = x\n",
    "            d = np.zeros(p)\n",
    "            d[i] = 1\n",
    "            alp = passive_search(x, d)\n",
    "            x = x - alp*d\n",
    "            n+=1\n",
    "            if (np.linalg.norm(x-x_prev) <= epsilon): check +=1\n",
    "    print(\"Метод покоординатного спуска выполнил {} шагов\".format(n))\n",
    "    print(\"Точка с координатами х1 = {}, x2 = {}\".format(x[0], x[1]))\n",
    "    return x"
   ]
  },
  {
   "cell_type": "code",
   "execution_count": 5,
   "metadata": {},
   "outputs": [
    {
     "name": "stdout",
     "output_type": "stream",
     "text": [
      "Метод покоординатного спуска выполнил 6 шагов\n",
      "Точка с координатами х1 = -0.5003, x2 = -0.5003\n",
      "Wall time: 43.8 ms\n"
     ]
    },
    {
     "data": {
      "text/plain": [
       "array([-0.5003, -0.5003])"
      ]
     },
     "execution_count": 5,
     "metadata": {},
     "output_type": "execute_result"
    }
   ],
   "source": [
    "%%time \n",
    "F_R()"
   ]
  },
  {
   "cell_type": "code",
   "execution_count": null,
   "metadata": {},
   "outputs": [],
   "source": []
  },
  {
   "cell_type": "code",
   "execution_count": null,
   "metadata": {},
   "outputs": [],
   "source": []
  }
 ],
 "metadata": {
  "kernelspec": {
   "display_name": "Python 3",
   "language": "python",
   "name": "python3"
  },
  "language_info": {
   "codemirror_mode": {
    "name": "ipython",
    "version": 3
   },
   "file_extension": ".py",
   "mimetype": "text/x-python",
   "name": "python",
   "nbconvert_exporter": "python",
   "pygments_lexer": "ipython3",
   "version": "3.7.1"
  }
 },
 "nbformat": 4,
 "nbformat_minor": 2
}
