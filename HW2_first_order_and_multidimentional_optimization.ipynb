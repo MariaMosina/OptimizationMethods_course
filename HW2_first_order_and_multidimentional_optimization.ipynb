{
 "cells": [
  {
   "cell_type": "markdown",
   "metadata": {},
   "source": [
    "# Методы высших порядков"
   ]
  },
  {
   "cell_type": "markdown",
   "metadata": {},
   "source": [
    "## Функция $f(x) = x^4 + 8x^3 - 6x^2 - 72x + 90$ на отрезке $[1.5; 2], \\varepsilon = 0.05$"
   ]
  },
  {
   "cell_type": "code",
   "execution_count": 1,
   "metadata": {},
   "outputs": [],
   "source": [
    "def f(x):\n",
    "    return x**4 + 8*(x**3) - 6*(x**2) - 72*x + 90\n",
    "def grad_f(x):\n",
    "    return 4*(x**3) + 24*(x**2) - 12*x - 72\n",
    "def grad2_f(x):\n",
    "    return 12*(x**2) + 48*x - 12"
   ]
  },
  {
   "cell_type": "code",
   "execution_count": 2,
   "metadata": {},
   "outputs": [],
   "source": [
    "a, b, eps = 1.5, 2, 0.05"
   ]
  },
  {
   "cell_type": "markdown",
   "metadata": {},
   "source": [
    "### Метод касательных"
   ]
  },
  {
   "cell_type": "code",
   "execution_count": 3,
   "metadata": {},
   "outputs": [],
   "source": [
    "def tangents(f = f, a = a, b = b, eps = eps):\n",
    "    if grad_f(a) >= 0:\n",
    "        print(\"Минимум находится в точке a =\", a)\n",
    "        return a\n",
    "    elif grad_f(b) <= 0:\n",
    "        print(\"Минимум находится в точке b =\", b)\n",
    "        return b\n",
    "    else:\n",
    "        n=1\n",
    "        while abs(b-a) > eps:\n",
    "            n+=1\n",
    "            c = (f(b) - f(a) + grad_f(a)*a - grad_f(b)*b)/(grad_f(a) - grad_f(b))\n",
    "            if grad_f(c) < 0:\n",
    "                a = c\n",
    "            elif grad_f(c) > 0:\n",
    "                b = c\n",
    "            else:\n",
    "                break\n",
    "        print(\"Метод касательных выполнил {} шагов\".format(n))\n",
    "        print(\"Точка с координатами х1 = {}, x2 = {}\".format(c, f(c)))"
   ]
  },
  {
   "cell_type": "code",
   "execution_count": 4,
   "metadata": {},
   "outputs": [
    {
     "name": "stdout",
     "output_type": "stream",
     "text": [
      "Метод касательных выполнил 5 шагов\n",
      "Точка с координатами х1 = 1.7359775639084432, x2 = -2.1376118531475754\n",
      "Wall time: 0 ns\n"
     ]
    }
   ],
   "source": [
    "%%time\n",
    "tangents()"
   ]
  },
  {
   "cell_type": "markdown",
   "metadata": {},
   "source": [
    "### Метод Ньютона-Рафсона"
   ]
  },
  {
   "cell_type": "code",
   "execution_count": 5,
   "metadata": {},
   "outputs": [],
   "source": [
    "def newton_raphson(f = f, a = a, b = b, eps = eps, x = 1.95):\n",
    "    n = 0\n",
    "    while abs(grad_f(x)) > eps:\n",
    "        n += 1\n",
    "        x = x - (grad_f(x)/grad2_f(x))\n",
    "    print(\"Метод Ньютона-Рафсона выполнил {} шагов\".format(n))\n",
    "    print(\"Точка с координатами х1 = {}, x2 = {}\".format(x, f(x)))"
   ]
  },
  {
   "cell_type": "code",
   "execution_count": 6,
   "metadata": {},
   "outputs": [
    {
     "name": "stdout",
     "output_type": "stream",
     "text": [
      "Метод Ньютона-Рафсона выполнил 2 шагов\n",
      "Точка с координатами х1 = 1.7321755250528625, x2 = -2.1384379300373695\n",
      "Wall time: 0 ns\n"
     ]
    }
   ],
   "source": [
    "%%time \n",
    "newton_raphson()"
   ]
  },
  {
   "cell_type": "markdown",
   "metadata": {},
   "source": [
    "### Метод хорд"
   ]
  },
  {
   "cell_type": "code",
   "execution_count": 7,
   "metadata": {},
   "outputs": [],
   "source": [
    "def chords(f = f, a = a, b = b, eps = eps):\n",
    "    n = 0\n",
    "    gr = eps*2\n",
    "    while abs(gr) > eps :\n",
    "        n+=1\n",
    "        x = b - ((b-a)/(grad_f(b) - grad_f(a)))*grad_f(b)\n",
    "        a, b = b, x\n",
    "        gr = grad_f(x)\n",
    "    print(\"Метод хорд выполнил {} шагов\".format(n))\n",
    "    print(\"Точка с координатами х1 = {}, x2 = {}\".format(x, f(x)))"
   ]
  },
  {
   "cell_type": "code",
   "execution_count": 8,
   "metadata": {},
   "outputs": [
    {
     "name": "stdout",
     "output_type": "stream",
     "text": [
      "Метод хорд выполнил 3 шагов\n",
      "Точка с координатами х1 = 1.732079539373475, x2 = -2.1384387190834673\n",
      "Wall time: 0 ns\n"
     ]
    }
   ],
   "source": [
    "%%time\n",
    "chords()"
   ]
  },
  {
   "cell_type": "markdown",
   "metadata": {},
   "source": [
    "# Методы многомерной минимизации"
   ]
  },
  {
   "cell_type": "markdown",
   "metadata": {},
   "source": [
    "## Функция $f(x) = x_1^2 +x_2^2+x_1+x_2$, точка $x^{(0)} = (0, 0)$"
   ]
  },
  {
   "cell_type": "code",
   "execution_count": 9,
   "metadata": {},
   "outputs": [],
   "source": [
    "import numpy as np"
   ]
  },
  {
   "cell_type": "code",
   "execution_count": 10,
   "metadata": {},
   "outputs": [],
   "source": [
    "def f(x):\n",
    "    return x[0]**2+x[1]**2+x[0]+x[1]"
   ]
  },
  {
   "cell_type": "markdown",
   "metadata": {},
   "source": [
    "## Метод покоординатного спуска"
   ]
  },
  {
   "cell_type": "code",
   "execution_count": 11,
   "metadata": {},
   "outputs": [],
   "source": [
    "a, b, eps = 0.0001, 0.9999,  0.0005\n",
    "def passive_search(x, v, p = 2, a = a, b = b, eps = eps):\n",
    "    n = round((b-a)/eps)+1\n",
    "    x_s = [a+i*eps for i in range(n)]\n",
    "    y_s = [f(x-i*v) for i in x_s]\n",
    "    res = y_s.index(min(y_s))\n",
    "    return x_s[res]"
   ]
  },
  {
   "cell_type": "code",
   "execution_count": 12,
   "metadata": {},
   "outputs": [],
   "source": [
    "def F_R(x = np.array([0, 0]), p = 2, alpha = 0.001, epsilon = 0.05):\n",
    "    x_prev = x + np.array([-1, -1])\n",
    "    n = 0\n",
    "    check = 0\n",
    "    while (np.linalg.norm(x-x_prev) > epsilon) or (check < 3):\n",
    "        for i in range(p):\n",
    "            x_prev = x\n",
    "            d = np.zeros(p)\n",
    "            d[i] = 1\n",
    "            alp = passive_search(x, d)\n",
    "            x = x - alp*d\n",
    "            n+=1\n",
    "            if (np.linalg.norm(x-x_prev) <= epsilon): check +=1\n",
    "    print(\"Метод покоординатного спуска выполнил {} шагов\".format(n))\n",
    "    print(\"Точка с координатами х1 = {}, x2 = {}\".format(x[0], x[1]))\n",
    "    return x"
   ]
  },
  {
   "cell_type": "code",
   "execution_count": 13,
   "metadata": {},
   "outputs": [
    {
     "name": "stdout",
     "output_type": "stream",
     "text": [
      "Метод покоординатного спуска выполнил 6 шагов\n",
      "Точка с координатами х1 = -0.5003, x2 = -0.5003\n",
      "Wall time: 36.9 ms\n"
     ]
    },
    {
     "data": {
      "text/plain": [
       "array([-0.5003, -0.5003])"
      ]
     },
     "execution_count": 13,
     "metadata": {},
     "output_type": "execute_result"
    }
   ],
   "source": [
    "%%time \n",
    "F_R()"
   ]
  }
 ],
 "metadata": {
  "kernelspec": {
   "display_name": "Python 3",
   "language": "python",
   "name": "python3"
  },
  "language_info": {
   "codemirror_mode": {
    "name": "ipython",
    "version": 3
   },
   "file_extension": ".py",
   "mimetype": "text/x-python",
   "name": "python",
   "nbconvert_exporter": "python",
   "pygments_lexer": "ipython3",
   "version": "3.7.1"
  }
 },
 "nbformat": 4,
 "nbformat_minor": 2
}
