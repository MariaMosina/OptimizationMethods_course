{
 "cells": [
  {
   "cell_type": "markdown",
   "metadata": {},
   "source": [
    "# Методы Фретчера-Ривза и Полака-Рибьера"
   ]
  },
  {
   "cell_type": "markdown",
   "metadata": {},
   "source": [
    "## Функция $f(x) = x_1^2 +x_2^2+x_1+x_2$, точка $x^{(0)} = (0, 0)$"
   ]
  },
  {
   "cell_type": "code",
   "execution_count": 1,
   "metadata": {},
   "outputs": [],
   "source": [
    "import numpy as np\n",
    "from optimization_methods import passive_search"
   ]
  },
  {
   "cell_type": "code",
   "execution_count": 2,
   "metadata": {},
   "outputs": [],
   "source": [
    "def f(x):\n",
    "    return x[0]**2+x[1]**2+x[0]+x[1]\n",
    "def grad_f(x):\n",
    "    return np.array([2*x[0]+1, 2*x[1]+1])"
   ]
  },
  {
   "cell_type": "markdown",
   "metadata": {},
   "source": [
    "### Метод Флетчера-Ривза"
   ]
  },
  {
   "cell_type": "code",
   "execution_count": 3,
   "metadata": {},
   "outputs": [],
   "source": [
    "a, b, eps = 0.0001, 0.9999,  0.005"
   ]
  },
  {
   "cell_type": "code",
   "execution_count": 4,
   "metadata": {},
   "outputs": [],
   "source": [
    "def F_R(x = np.array([0, 0]), p = 2, alpha = 0.001, epsilon = 0.05):\n",
    "    d = grad_f(x)\n",
    "    x_prev = x\n",
    "    n = 0\n",
    "    check = 0\n",
    "    while (np.linalg.norm(d) > epsilon) or (check < 3):\n",
    "        d = grad_f(x)\n",
    "        for i in range(p):\n",
    "            alp = passive_search(f, x, d, a, b, eps)\n",
    "            x_prev = x\n",
    "            x = x - alp*d\n",
    "            beta = (np.linalg.norm(grad_f(x))**2)/(np.linalg.norm(grad_f(x_prev))**2)\n",
    "            d = -grad_f(x) + beta*d\n",
    "            n+=1\n",
    "            if (np.linalg.norm(d) <= epsilon): check +=1\n",
    "    print(\"Метод Флетчера-Ривза выполнил {} шагов\".format(n))\n",
    "    print(\"Точка с координатами х1 = {}, x2 = {}\".format(x[0], x[1]))\n",
    "    return x"
   ]
  },
  {
   "cell_type": "code",
   "execution_count": 5,
   "metadata": {},
   "outputs": [
    {
     "name": "stdout",
     "output_type": "stream",
     "text": [
      "Метод Флетчера-Ривза выполнил 4 шагов\n",
      "Точка с координатами х1 = -0.49999997999199763, x2 = -0.49999997999199763\n",
      "Wall time: 7.94 ms\n"
     ]
    },
    {
     "data": {
      "text/plain": [
       "array([-0.49999998, -0.49999998])"
      ]
     },
     "execution_count": 5,
     "metadata": {},
     "output_type": "execute_result"
    }
   ],
   "source": [
    "%%time \n",
    "F_R()"
   ]
  },
  {
   "cell_type": "markdown",
   "metadata": {},
   "source": [
    "# Условная оптимизация"
   ]
  },
  {
   "cell_type": "markdown",
   "metadata": {},
   "source": [
    "## Многоугольник с вершинами (0, 0), (0, 4), (5, 8), (10, 4), (6, 0). Функция $f(x) = x_1^2 +x_2^2-4x_1 - 6x_2$"
   ]
  },
  {
   "cell_type": "code",
   "execution_count": 1,
   "metadata": {},
   "outputs": [],
   "source": [
    "def f(x):\n",
    "    return x[0]**2 + x[1]**2 - 4*x[0] - 6*x[1]"
   ]
  },
  {
   "cell_type": "code",
   "execution_count": 2,
   "metadata": {},
   "outputs": [],
   "source": [
    "xs = [[2, 3], \n",
    "     [2+52/41, 52/41+4],\n",
    "     [35/4, 5], \n",
    "     [2+148/9, 12-8/5-(8*74)/59],\n",
    "     [2,0], \n",
    "     [0,4], \n",
    "     [0, 0], \n",
    "     [0, 3]]"
   ]
  },
  {
   "cell_type": "code",
   "execution_count": 3,
   "metadata": {},
   "outputs": [
    {
     "name": "stdout",
     "output_type": "stream",
     "text": [
      "0 -13\n",
      "1 -6.24628197501487\n",
      "2 36.5625\n",
      "3 264.357173367948\n",
      "4 -4\n",
      "5 -8\n",
      "6 0\n",
      "7 -9\n"
     ]
    }
   ],
   "source": [
    "i=0\n",
    "for x in xs:\n",
    "    print(i, f(x))\n",
    "    i+=1"
   ]
  },
  {
   "cell_type": "code",
   "execution_count": null,
   "metadata": {},
   "outputs": [],
   "source": []
  }
 ],
 "metadata": {
  "kernelspec": {
   "display_name": "Python 3",
   "language": "python",
   "name": "python3"
  },
  "language_info": {
   "codemirror_mode": {
    "name": "ipython",
    "version": 3
   },
   "file_extension": ".py",
   "mimetype": "text/x-python",
   "name": "python",
   "nbconvert_exporter": "python",
   "pygments_lexer": "ipython3",
   "version": "3.7.1"
  }
 },
 "nbformat": 4,
 "nbformat_minor": 2
}
