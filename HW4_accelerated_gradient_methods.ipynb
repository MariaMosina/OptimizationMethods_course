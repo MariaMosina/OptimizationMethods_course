{
 "cells": [
  {
   "cell_type": "markdown",
   "metadata": {},
   "source": [
    "# Ускоренные градиентные методы"
   ]
  },
  {
   "cell_type": "markdown",
   "metadata": {},
   "source": [
    "## Функция $f(x) = x_1^2 +x_2^2+x_1+x_2$, точка $x^{(0)} = (0, 0)$"
   ]
  },
  {
   "cell_type": "code",
   "execution_count": 1,
   "metadata": {},
   "outputs": [],
   "source": [
    "import numpy as np"
   ]
  },
  {
   "cell_type": "code",
   "execution_count": 2,
   "metadata": {},
   "outputs": [],
   "source": [
    "def f(x):\n",
    "    return x[0]**2+x[1]**2+x[0]+x[1]\n",
    "def grad_f(x):\n",
    "    return np.array([2*x[0]+1, 2*x[1]+1])\n",
    "def matrix_d2f(x):\n",
    "    return np.array([[2, 0], [0, 2]])"
   ]
  },
  {
   "cell_type": "markdown",
   "metadata": {},
   "source": [
    "### Ускоренный градиентный метод p-го порядка"
   ]
  },
  {
   "cell_type": "code",
   "execution_count": 3,
   "metadata": {},
   "outputs": [],
   "source": [
    "a, b, eps = 0.0001, 0.9999,  0.005\n",
    "def passive_search(x, grad, a = a, b = b, eps = eps):\n",
    "    \n",
    "    n = round((b-a)/eps)+1\n",
    "    x_s = [a+i*eps for i in range(n)]\n",
    "    y_s = [f(x-i*grad) for i in x_s]\n",
    "    res = y_s.index(min(y_s))\n",
    "    return x_s[res]"
   ]
  },
  {
   "cell_type": "code",
   "execution_count": 4,
   "metadata": {},
   "outputs": [],
   "source": [
    "def grad_method_p(x = np.array([0, 0]), p = 2, alpha = 0.001, epsilon = 0.05):\n",
    "    grad = grad_f(x)\n",
    "    x1=x\n",
    "    n = 0\n",
    "    check = 0\n",
    "    while (np.linalg.norm(grad) > epsilon) or (check < 3):\n",
    "        for i in range(p):\n",
    "            alp = passive_search(x1, grad)\n",
    "            x1 = x1 - alp*grad\n",
    "            grad = grad_f(x1)\n",
    "        alpha = passive_search(x, x1-x)\n",
    "        x = x + alpha*(x1-x)\n",
    "        grad = grad_f(x)\n",
    "        n+=1\n",
    "        if (np.linalg.norm(grad) <= epsilon): check +=1\n",
    "    print(\"Ускоренный градиентный метод {}-го порядка выполнил {} шагов\".format(p, n))\n",
    "    print(\"Точка с координатами х1 = {}, x2 = {}\".format(x[0], x[1]))\n",
    "    return x"
   ]
  },
  {
   "cell_type": "code",
   "execution_count": 5,
   "metadata": {},
   "outputs": [
    {
     "name": "stdout",
     "output_type": "stream",
     "text": [
      "Ускоренный градиентный метод 2-го порядка выполнил 33424 шагов\n",
      "Точка с координатами х1 = -0.4823269461015969, x2 = -0.4823269461015969\n",
      "Wall time: 50.6 s\n"
     ]
    },
    {
     "data": {
      "text/plain": [
       "array([-0.48232695, -0.48232695])"
      ]
     },
     "execution_count": 5,
     "metadata": {},
     "output_type": "execute_result"
    }
   ],
   "source": [
    "%%time \n",
    "grad_method_p()"
   ]
  },
  {
   "cell_type": "markdown",
   "metadata": {},
   "source": [
    "### Овражный метод"
   ]
  },
  {
   "cell_type": "code",
   "execution_count": 6,
   "metadata": {},
   "outputs": [],
   "source": [
    "def gully_method(x1 = np.array([0, 0]), alpha = 0.001, epsilon = 0.05, n_steps = 1, neigh = np.array([0.00001, 0.00001])):\n",
    "    x2 = x1 + neigh\n",
    "    grad1 = grad_f(x1)\n",
    "    grad2 = grad_f(x2)\n",
    "    n = 0\n",
    "    check = 0\n",
    "    while (np.linalg.norm(grad1) > epsilon) or (check < 3):\n",
    "        for i in range(n_steps):\n",
    "            x1 = x1 - alpha*grad1\n",
    "            grad1 = grad_f(x1)\n",
    "            x2= x2 - alpha*grad2\n",
    "            grad2 = grad_f(x2)\n",
    "        alp = passive_search(x1, x2-x1)\n",
    "        x1 = x1 + alp*(x2-x1)\n",
    "        grad1 = grad_f(x1)\n",
    "        x2 = x1 + neigh\n",
    "        grad2 = grad_f(x2)\n",
    "        n+=1\n",
    "        if (np.linalg.norm(grad1) <= epsilon): check +=1\n",
    "    print(\"Овражный метод выполнил {} шагов\".format( n))\n",
    "    print(\"Точка с координатами х1 = {}, x2 = {}\".format(x1[0], x1[1]))\n",
    "    return x1"
   ]
  },
  {
   "cell_type": "code",
   "execution_count": 7,
   "metadata": {},
   "outputs": [
    {
     "name": "stdout",
     "output_type": "stream",
     "text": [
      "Овражный метод выполнил 1833 шагов\n",
      "Точка с координатами х1 = -0.4823942552714334, x2 = -0.4823942552714334\n",
      "Wall time: 948 ms\n"
     ]
    },
    {
     "data": {
      "text/plain": [
       "array([-0.48239426, -0.48239426])"
      ]
     },
     "execution_count": 7,
     "metadata": {},
     "output_type": "execute_result"
    }
   ],
   "source": [
    "%%time\n",
    "gully_method()"
   ]
  },
  {
   "cell_type": "markdown",
   "metadata": {},
   "source": [
    "### Метод Ньютона"
   ]
  },
  {
   "cell_type": "code",
   "execution_count": 8,
   "metadata": {},
   "outputs": [],
   "source": [
    "def newton_method(x = np.array([0, 0]), epsilon = 0.05):\n",
    "    d2f = matrix_d2f(x)\n",
    "    d2f_inv = np.linalg.inv(d2f)\n",
    "    direction = d2f_inv @ np.transpose(grad_f(x))\n",
    "    alpha = passive_search(x, direction)\n",
    "    return x - alpha * direction"
   ]
  },
  {
   "cell_type": "code",
   "execution_count": 9,
   "metadata": {},
   "outputs": [
    {
     "name": "stdout",
     "output_type": "stream",
     "text": [
      "Wall time: 2 ms\n"
     ]
    },
    {
     "data": {
      "text/plain": [
       "array([-0.50005, -0.50005])"
      ]
     },
     "execution_count": 9,
     "metadata": {},
     "output_type": "execute_result"
    }
   ],
   "source": [
    "%%time\n",
    "newton_method()"
   ]
  }
 ],
 "metadata": {
  "kernelspec": {
   "display_name": "Python 3",
   "language": "python",
   "name": "python3"
  },
  "language_info": {
   "codemirror_mode": {
    "name": "ipython",
    "version": 3
   },
   "file_extension": ".py",
   "mimetype": "text/x-python",
   "name": "python",
   "nbconvert_exporter": "python",
   "pygments_lexer": "ipython3",
   "version": "3.7.1"
  }
 },
 "nbformat": 4,
 "nbformat_minor": 2
}
