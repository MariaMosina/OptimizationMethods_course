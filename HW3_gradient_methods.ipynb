{
 "cells": [
  {
   "cell_type": "markdown",
   "metadata": {},
   "source": [
    "# Градиентные методы"
   ]
  },
  {
   "cell_type": "markdown",
   "metadata": {},
   "source": [
    "## Функция $f(x) = x_1^2 +x_2^2+x_1+x_2$, точка $x^{(0)} = (0, 0)$"
   ]
  },
  {
   "cell_type": "code",
   "execution_count": 1,
   "metadata": {},
   "outputs": [],
   "source": [
    "import numpy as np"
   ]
  },
  {
   "cell_type": "code",
   "execution_count": 2,
   "metadata": {},
   "outputs": [],
   "source": [
    "def f(x):\n",
    "    return x[0]**2+x[1]**2+x[0]+x[1]\n",
    "def grad_f(x):\n",
    "    return np.array([2*x[0]+1, 2*x[1]+1])"
   ]
  },
  {
   "cell_type": "markdown",
   "metadata": {},
   "source": [
    "### Градиентный спуск с постоянным шагом"
   ]
  },
  {
   "cell_type": "code",
   "execution_count": 3,
   "metadata": {},
   "outputs": [],
   "source": [
    "def grad_descent_const_step(x = np.array([0, 0]), alpha = 0.001, epsilon = 0.05):\n",
    "    grad = grad_f(x)\n",
    "    n = 0\n",
    "    while np.linalg.norm(grad) > epsilon:\n",
    "        x = x - alpha*grad\n",
    "        grad = grad_f(x)\n",
    "        n+=1\n",
    "    print(\"Градиентный спуст с постоянным шагом выполнил {} шагов\".format(n))\n",
    "    print(\"Точка с координатами х1 = {}, x2 = {}\".format(x[0], x[1]))\n",
    "    return x"
   ]
  },
  {
   "cell_type": "code",
   "execution_count": 4,
   "metadata": {},
   "outputs": [
    {
     "name": "stdout",
     "output_type": "stream",
     "text": [
      "Градиентный спуст с постоянным шагом выполнил 15 шагов\n",
      "Точка с координатами х1 = -0.48240781395558396, x2 = -0.48240781395558396\n"
     ]
    }
   ],
   "source": [
    "x = grad_descent_const_step(alpha = 0.1)"
   ]
  },
  {
   "cell_type": "markdown",
   "metadata": {},
   "source": [
    "### Градиентный спуск с заранее заданным шагом"
   ]
  },
  {
   "cell_type": "code",
   "execution_count": 5,
   "metadata": {},
   "outputs": [],
   "source": [
    "def grad_descent_series(x = np.array([0, 0]), epsilon = 0.05):\n",
    "    grad = grad_f(x)\n",
    "    n = 0\n",
    "    k=1\n",
    "    while np.linalg.norm(grad) > epsilon:\n",
    "        x = x - (1/k)*grad\n",
    "        grad = grad_f(x)\n",
    "        k+=1\n",
    "        n+=1\n",
    "    print(\"Градиентный спуст с заранее заданным шагом выполнил {} шагов\".format(n))\n",
    "    print(\"Точка с координатами х1 = {}, x2 = {}\".format(x[0], x[1]))\n",
    "    return x"
   ]
  },
  {
   "cell_type": "code",
   "execution_count": 6,
   "metadata": {},
   "outputs": [
    {
     "name": "stdout",
     "output_type": "stream",
     "text": [
      "Градиентный спуст с заранее заданным шагом выполнил 2 шагов\n",
      "Точка с координатами х1 = -0.5, x2 = -0.5\n"
     ]
    }
   ],
   "source": [
    "a = grad_descent_series()"
   ]
  },
  {
   "cell_type": "markdown",
   "metadata": {},
   "source": [
    "### Градиентный спуск с дроблением шага"
   ]
  },
  {
   "cell_type": "code",
   "execution_count": 7,
   "metadata": {},
   "outputs": [],
   "source": [
    "def grad_descent_step_splitting(x = np.array([0, 0]), alpha = 1, epsilon = 0.05, ksi = 0.5, lambda_d = 0.35):\n",
    "    grad = grad_f(x)\n",
    "    n = 0\n",
    "    n_alpha = 0\n",
    "    alpha_k = alpha\n",
    "    x_k0 = x\n",
    "    while np.linalg.norm(grad) > epsilon:\n",
    "        grad = grad_f(x_k0)\n",
    "        x_k1 = x_k0 - alpha_k*grad\n",
    "        while f(x_k1) - f(x_k0) > - alpha_k * ksi * (np.linalg.norm(grad)**2):\n",
    "            alpha_k *= lambda_d\n",
    "            x_k1 = x_k0 - alpha_k*grad\n",
    "            n_alpha+=1\n",
    "        x_k0 = x_k0 - alpha_k*grad\n",
    "        alpha_k = alpha\n",
    "        n+=1\n",
    "    x = x_k0\n",
    "    print(\"Градиентный спуст с дроблением шага выполнил {} шагов\".format(n))\n",
    "    print(\"Выполнено {} итераций дробления шага\".format(n_alpha))\n",
    "    print(\"Точка с координатами х1 = {}, x2 = {}\".format(x[0], x[1]))\n",
    "    return x"
   ]
  },
  {
   "cell_type": "code",
   "execution_count": 8,
   "metadata": {},
   "outputs": [
    {
     "name": "stdout",
     "output_type": "stream",
     "text": [
      "Градиентный спуст с дроблением шага выполнил 4 шагов\n",
      "Выполнено 4 итераций дробления шага\n",
      "Точка с координатами х1 = -0.49595, x2 = -0.49595\n"
     ]
    }
   ],
   "source": [
    "a = grad_descent_step_splitting()"
   ]
  },
  {
   "cell_type": "markdown",
   "metadata": {},
   "source": [
    "### Метод наискорейшего градиентного спуска"
   ]
  },
  {
   "cell_type": "code",
   "execution_count": 9,
   "metadata": {},
   "outputs": [],
   "source": [
    "a, b, eps = 0.0001, 0.9999,  0.005\n",
    "def passive_search(x, grad, a = a, b = b, eps = eps):\n",
    "    \n",
    "    n = round((b-a)/eps)+1\n",
    "    x_s = [a+i*eps for i in range(n)]\n",
    "    y_s = [f(x-i*grad) for i in x_s]\n",
    "    res = y_s.index(min(y_s))\n",
    "    return x_s[res]"
   ]
  },
  {
   "cell_type": "code",
   "execution_count": 10,
   "metadata": {},
   "outputs": [],
   "source": [
    "def grad_descent_series(x = np.array([0, 0]), epsilon = 0.05):\n",
    "    grad = grad_f(x)\n",
    "    n = 0\n",
    "    while np.linalg.norm(grad) > epsilon:\n",
    "        alp = passive_search(x, grad)\n",
    "        x = x - alp*grad\n",
    "        grad = grad_f(x)\n",
    "        n+=1\n",
    "    print(\"Метод наискорейшего градиентного спуска выполнил {} шагов\".format(n))\n",
    "    print(\"Точка с координатами х1 = {}, x2 = {}\".format(x[0], x[1]))\n",
    "    return x"
   ]
  },
  {
   "cell_type": "code",
   "execution_count": 11,
   "metadata": {},
   "outputs": [
    {
     "name": "stdout",
     "output_type": "stream",
     "text": [
      "Метод наискорейшего градиентного спуска выполнил 1 шагов\n",
      "Точка с координатами х1 = -0.5001, x2 = -0.5001\n"
     ]
    }
   ],
   "source": [
    "a = grad_descent_series()"
   ]
  }
 ],
 "metadata": {
  "kernelspec": {
   "display_name": "Python 3",
   "language": "python",
   "name": "python3"
  },
  "language_info": {
   "codemirror_mode": {
    "name": "ipython",
    "version": 3
   },
   "file_extension": ".py",
   "mimetype": "text/x-python",
   "name": "python",
   "nbconvert_exporter": "python",
   "pygments_lexer": "ipython3",
   "version": "3.7.1"
  }
 },
 "nbformat": 4,
 "nbformat_minor": 2
}
